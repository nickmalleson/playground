{
 "cells": [
  {
   "metadata": {},
   "cell_type": "markdown",
   "source": [
    "# Embeddings with the Schelling Model\n",
    "\n",
    "A series of experiements with using embeddings to define agents in a simple schelling model.\n",
    "\n",
    "See [schelling_embeddings2.py](schelling_embeddings2.py) for the Schelling model code."
   ],
   "id": "f3780b22f7e74e33"
  },
  {
   "metadata": {
    "ExecuteTime": {
     "end_time": "2025-04-04T12:05:59.342806Z",
     "start_time": "2025-04-04T12:05:57.140861Z"
    }
   },
   "cell_type": "code",
   "source": [
    "import numpy as np\n",
    "import matplotlib.pyplot as plt\n",
    "from sklearn.metrics.pairwise import cosine_similarity\n",
    "import pandas as pd\n",
    "\n",
    "# Import the SchellingModel from your existing code file\n",
    "from schelling_embeddings2 import household_descriptions\n",
    "from schelling_embeddings2 import SchellingModel"
   ],
   "id": "c61ff432661862a0",
   "outputs": [],
   "execution_count": 1
  },
  {
   "metadata": {},
   "cell_type": "markdown",
   "source": [
    "## Household Embedding similarity\n",
    "\n",
    "Explore the embeddings"
   ],
   "id": "e2bfbb7c39af74bc"
  },
  {
   "metadata": {},
   "cell_type": "markdown",
   "source": "These are the household descriptions:",
   "id": "449060ad1d98e55e"
  },
  {
   "metadata": {
    "ExecuteTime": {
     "end_time": "2025-04-04T12:06:00.999172Z",
     "start_time": "2025-04-04T12:06:00.986989Z"
    }
   },
   "cell_type": "code",
   "source": "pd.DataFrame(household_descriptions)",
   "id": "3b50a8b655d1eee0",
   "outputs": [
    {
     "data": {
      "text/plain": [
       "                                                   0\n",
       "0  A dual-income, child-free couple in their 30s ...\n",
       "1  A single mother of two in a rented flat works ...\n",
       "2  A student house-share of four undergraduates l...\n",
       "3  A middle-aged, married couple with three teena...\n",
       "4  A cohabiting same-sex couple in their 40s livi...\n",
       "5  A large, multi-generational family shares a te...\n",
       "6  A young single professional in a high-rise fla...\n",
       "7  A rural, self-employed farming couple with no ...\n",
       "8  A divorced father living part-time with his ki...\n",
       "9  A dual-income, couple without children in thei..."
      ],
      "text/html": [
       "<div>\n",
       "<style scoped>\n",
       "    .dataframe tbody tr th:only-of-type {\n",
       "        vertical-align: middle;\n",
       "    }\n",
       "\n",
       "    .dataframe tbody tr th {\n",
       "        vertical-align: top;\n",
       "    }\n",
       "\n",
       "    .dataframe thead th {\n",
       "        text-align: right;\n",
       "    }\n",
       "</style>\n",
       "<table border=\"1\" class=\"dataframe\">\n",
       "  <thead>\n",
       "    <tr style=\"text-align: right;\">\n",
       "      <th></th>\n",
       "      <th>0</th>\n",
       "    </tr>\n",
       "  </thead>\n",
       "  <tbody>\n",
       "    <tr>\n",
       "      <th>0</th>\n",
       "      <td>A dual-income, child-free couple in their 30s ...</td>\n",
       "    </tr>\n",
       "    <tr>\n",
       "      <th>1</th>\n",
       "      <td>A single mother of two in a rented flat works ...</td>\n",
       "    </tr>\n",
       "    <tr>\n",
       "      <th>2</th>\n",
       "      <td>A student house-share of four undergraduates l...</td>\n",
       "    </tr>\n",
       "    <tr>\n",
       "      <th>3</th>\n",
       "      <td>A middle-aged, married couple with three teena...</td>\n",
       "    </tr>\n",
       "    <tr>\n",
       "      <th>4</th>\n",
       "      <td>A cohabiting same-sex couple in their 40s livi...</td>\n",
       "    </tr>\n",
       "    <tr>\n",
       "      <th>5</th>\n",
       "      <td>A large, multi-generational family shares a te...</td>\n",
       "    </tr>\n",
       "    <tr>\n",
       "      <th>6</th>\n",
       "      <td>A young single professional in a high-rise fla...</td>\n",
       "    </tr>\n",
       "    <tr>\n",
       "      <th>7</th>\n",
       "      <td>A rural, self-employed farming couple with no ...</td>\n",
       "    </tr>\n",
       "    <tr>\n",
       "      <th>8</th>\n",
       "      <td>A divorced father living part-time with his ki...</td>\n",
       "    </tr>\n",
       "    <tr>\n",
       "      <th>9</th>\n",
       "      <td>A dual-income, couple without children in thei...</td>\n",
       "    </tr>\n",
       "  </tbody>\n",
       "</table>\n",
       "</div>"
      ]
     },
     "execution_count": 2,
     "metadata": {},
     "output_type": "execute_result"
    }
   ],
   "execution_count": 2
  },
  {
   "metadata": {},
   "cell_type": "markdown",
   "source": "Look at the similarity of the household embeddings.\n",
   "id": "c2bec00c4121048"
  },
  {
   "metadata": {
    "ExecuteTime": {
     "end_time": "2025-04-04T12:06:04.908246Z",
     "start_time": "2025-04-04T12:06:03.204782Z"
    }
   },
   "cell_type": "code",
   "source": [
    "# Create a minimal model instance. Set grid_size=1, num_agents=1, max_iters=0\n",
    "# so it doesn't run the main loop, but still loads embeddings.\n",
    "model = SchellingModel(\n",
    "    descriptions=household_descriptions,\n",
    "    grid_size=1,\n",
    "    num_agents=1,\n",
    "    similarity_threshold=0.85,\n",
    "    max_iters=0\n",
    ")\n",
    "\n",
    "# Retrieve the 10 household embeddings from the model\n",
    "embeddings = model.description_embeddings\n",
    "\n",
    "# Compute the 10×10 similarity matrix\n",
    "sim_matrix = cosine_similarity(embeddings)\n",
    "\n",
    "# Plot the similarity matrix\n",
    "plt.imshow(sim_matrix)  # By default uses a color scale\n",
    "plt.colorbar()\n",
    "plt.title(\"Cosine Similarities Between Household Types\")\n",
    "plt.xlabel(\"Household Type Index\")\n",
    "plt.ylabel(\"Household Type Index\")\n",
    "plt.show()"
   ],
   "id": "80463d59eee8ff4a",
   "outputs": [
    {
     "data": {
      "text/plain": [
       "<Figure size 640x480 with 2 Axes>"
      ],
      "image/png": "[encoded data removed]"
     },
     "metadata": {},
     "output_type": "display_data"
    }
   ],
   "execution_count": 3
  },
  {
   "metadata": {},
   "cell_type": "markdown",
   "source": "Show the most- and least-similar pairs of households",
   "id": "6355ed6d6fcdbc38"
  },
  {
   "metadata": {
    "ExecuteTime": {
     "end_time": "2025-04-04T12:06:13.343677Z",
     "start_time": "2025-04-04T12:06:13.336375Z"
    }
   },
   "cell_type": "code",
   "source": [
    "# Create a list of (type_i, type_j, similarity) for all unique pairs\n",
    "pairs = []\n",
    "for i in range(len(household_descriptions)):\n",
    "    for j in range(i+1, len(household_descriptions)):\n",
    "        pairs.append((i, j, sim_matrix[i][j]))\n",
    "\n",
    "# Sort by similarity\n",
    "pairs.sort(key=lambda x: x[2], reverse=True)\n",
    "\n",
    "# Take the top 5 most similar\n",
    "top_5 = pairs[:5]\n",
    "# Take the bottom 5 least similar\n",
    "bottom_5 = pairs[-5:]\n",
    "\n",
    "# Convert to DataFrame\n",
    "columns = [\"Type1 Index\", \"Type2 Index\", \"Similarity\", \"Type1 Description\", \"Type2 Description\"]\n",
    "rows = []\n",
    "for (i, j, sim) in top_5:\n",
    "    rows.append((i, j, sim, household_descriptions[i], household_descriptions[j]))\n",
    "for (i, j, sim) in bottom_5:\n",
    "    rows.append((i, j, sim, household_descriptions[i], household_descriptions[j]))\n",
    "\n",
    "df = pd.DataFrame(rows, columns=columns)\n",
    "\n",
    "# Show the table\n",
    "df"
   ],
   "id": "521bef35f7e06466",
   "outputs": [
    {
     "data": {
      "text/plain": [
       "   Type1 Index  Type2 Index  Similarity  \\\n",
       "0            0            9    0.745050   \n",
       "1            0            7    0.653798   \n",
       "2            7            9    0.608904   \n",
       "3            0            4    0.605440   \n",
       "4            4            9    0.598501   \n",
       "5            2            4    0.304252   \n",
       "6            1            3    0.292134   \n",
       "7            2            7    0.285348   \n",
       "8            4            8    0.283337   \n",
       "9            5            6    0.281801   \n",
       "\n",
       "                                   Type1 Description  \\\n",
       "0  A dual-income, child-free couple in their 30s ...   \n",
       "1  A dual-income, child-free couple in their 30s ...   \n",
       "2  A rural, self-employed farming couple with no ...   \n",
       "3  A dual-income, child-free couple in their 30s ...   \n",
       "4  A cohabiting same-sex couple in their 40s livi...   \n",
       "5  A student house-share of four undergraduates l...   \n",
       "6  A single mother of two in a rented flat works ...   \n",
       "7  A student house-share of four undergraduates l...   \n",
       "8  A cohabiting same-sex couple in their 40s livi...   \n",
       "9  A large, multi-generational family shares a te...   \n",
       "\n",
       "                                   Type2 Description  \n",
       "0  A dual-income, couple without children in thei...  \n",
       "1  A rural, self-employed farming couple with no ...  \n",
       "2  A dual-income, couple without children in thei...  \n",
       "3  A cohabiting same-sex couple in their 40s livi...  \n",
       "4  A dual-income, couple without children in thei...  \n",
       "5  A cohabiting same-sex couple in their 40s livi...  \n",
       "6  A middle-aged, married couple with three teena...  \n",
       "7  A rural, self-employed farming couple with no ...  \n",
       "8  A divorced father living part-time with his ki...  \n",
       "9  A young single professional in a high-rise fla...  "
      ],
      "text/html": [
       "<div>\n",
       "<style scoped>\n",
       "    .dataframe tbody tr th:only-of-type {\n",
       "        vertical-align: middle;\n",
       "    }\n",
       "\n",
       "    .dataframe tbody tr th {\n",
       "        vertical-align: top;\n",
       "    }\n",
       "\n",
       "    .dataframe thead th {\n",
       "        text-align: right;\n",
       "    }\n",
       "</style>\n",
       "<table border=\"1\" class=\"dataframe\">\n",
       "  <thead>\n",
       "    <tr style=\"text-align: right;\">\n",
       "      <th></th>\n",
       "      <th>Type1 Index</th>\n",
       "      <th>Type2 Index</th>\n",
       "      <th>Similarity</th>\n",
       "      <th>Type1 Description</th>\n",
       "      <th>Type2 Description</th>\n",
       "    </tr>\n",
       "  </thead>\n",
       "  <tbody>\n",
       "    <tr>\n",
       "      <th>0</th>\n",
       "      <td>0</td>\n",
       "      <td>9</td>\n",
       "      <td>0.745050</td>\n",
       "      <td>A dual-income, child-free couple in their 30s ...</td>\n",
       "      <td>A dual-income, couple without children in thei...</td>\n",
       "    </tr>\n",
       "    <tr>\n",
       "      <th>1</th>\n",
       "      <td>0</td>\n",
       "      <td>7</td>\n",
       "      <td>0.653798</td>\n",
       "      <td>A dual-income, child-free couple in their 30s ...</td>\n",
       "      <td>A rural, self-employed farming couple with no ...</td>\n",
       "    </tr>\n",
       "    <tr>\n",
       "      <th>2</th>\n",
       "      <td>7</td>\n",
       "      <td>9</td>\n",
       "      <td>0.608904</td>\n",
       "      <td>A rural, self-employed farming couple with no ...</td>\n",
       "      <td>A dual-income, couple without children in thei...</td>\n",
       "    </tr>\n",
       "    <tr>\n",
       "      <th>3</th>\n",
       "      <td>0</td>\n",
       "      <td>4</td>\n",
       "      <td>0.605440</td>\n",
       "      <td>A dual-income, child-free couple in their 30s ...</td>\n",
       "      <td>A cohabiting same-sex couple in their 40s livi...</td>\n",
       "    </tr>\n",
       "    <tr>\n",
       "      <th>4</th>\n",
       "      <td>4</td>\n",
       "      <td>9</td>\n",
       "      <td>0.598501</td>\n",
       "      <td>A cohabiting same-sex couple in their 40s livi...</td>\n",
       "      <td>A dual-income, couple without children in thei...</td>\n",
       "    </tr>\n",
       "    <tr>\n",
       "      <th>5</th>\n",
       "      <td>2</td>\n",
       "      <td>4</td>\n",
       "      <td>0.304252</td>\n",
       "      <td>A student house-share of four undergraduates l...</td>\n",
       "      <td>A cohabiting same-sex couple in their 40s livi...</td>\n",
       "    </tr>\n",
       "    <tr>\n",
       "      <th>6</th>\n",
       "      <td>1</td>\n",
       "      <td>3</td>\n",
       "      <td>0.292134</td>\n",
       "      <td>A single mother of two in a rented flat works ...</td>\n",
       "      <td>A middle-aged, married couple with three teena...</td>\n",
       "    </tr>\n",
       "    <tr>\n",
       "      <th>7</th>\n",
       "      <td>2</td>\n",
       "      <td>7</td>\n",
       "      <td>0.285348</td>\n",
       "      <td>A student house-share of four undergraduates l...</td>\n",
       "      <td>A rural, self-employed farming couple with no ...</td>\n",
       "    </tr>\n",
       "    <tr>\n",
       "      <th>8</th>\n",
       "      <td>4</td>\n",
       "      <td>8</td>\n",
       "      <td>0.283337</td>\n",
       "      <td>A cohabiting same-sex couple in their 40s livi...</td>\n",
       "      <td>A divorced father living part-time with his ki...</td>\n",
       "    </tr>\n",
       "    <tr>\n",
       "      <th>9</th>\n",
       "      <td>5</td>\n",
       "      <td>6</td>\n",
       "      <td>0.281801</td>\n",
       "      <td>A large, multi-generational family shares a te...</td>\n",
       "      <td>A young single professional in a high-rise fla...</td>\n",
       "    </tr>\n",
       "  </tbody>\n",
       "</table>\n",
       "</div>"
      ]
     },
     "execution_count": 4,
     "metadata": {},
     "output_type": "execute_result"
    }
   ],
   "execution_count": 4
  },
  {
   "metadata": {},
   "cell_type": "markdown",
   "source": [
    "## Agent locations\n",
    "\n",
    "Visualise the changing locations of the agents"
   ],
   "id": "9a22a5ef18e5ddd3"
  },
  {
   "metadata": {
    "ExecuteTime": {
     "end_time": "2025-04-04T12:07:12.932674Z",
     "start_time": "2025-04-04T12:07:11.295727Z"
    }
   },
   "cell_type": "code",
   "source": [
    "\n",
    "# --- Step 2: Create and run the model\n",
    "model = SchellingModel(household_descriptions,\n",
    "                           grid_size=20,\n",
    "                           num_agents=300,\n",
    "                           similarity_threshold=0.53,\n",
    "                           max_iters=30)\n",
    "\n",
    "# Save initial positions before running the simulation\n",
    "initial_positions = [(agent.pos, agent.desc_idx) for agent in model.agents]\n",
    "\n",
    "# Run the simulation (updates agent positions)\n",
    "model.run(do_plots=False)\n",
    "\n",
    "# Save final positions\n",
    "final_positions = [(agent.pos, agent.desc_idx) for agent in model.agents]\n",
    "\n",
    "# --- Step 3: Plotting function\n",
    "def plot_agent_positions(agent_data, title, rgb_map, grid_size=20):\n",
    "    img = np.ones((grid_size, grid_size, 3))  # white background\n",
    "    for (x, y), desc_idx in agent_data:\n",
    "        rgb = rgb_map[desc_idx]\n",
    "        scaled = (rgb - rgb_map.min()) / (rgb_map.max() - rgb_map.min())\n",
    "        img[x, y] = scaled\n",
    "    plt.imshow(img)\n",
    "    plt.title(title)\n",
    "    plt.axis(\"off\")\n",
    "    plt.show()\n",
    "\n",
    "# --- Step 4: Show both grids\n",
    "plot_agent_positions(initial_positions, \"Initial Agent Locations\", model.rgb_map)\n",
    "plot_agent_positions(final_positions, \"Final Agent Locations\", model.rgb_map)"
   ],
   "id": "d550709aa975d618",
   "outputs": [
    {
     "name": "stdout",
     "output_type": "stream",
     "text": [
      "Iteration 0: 132 happy agents\n",
      "Iteration 1: 159 happy agents\n",
      "Iteration 2: 165 happy agents\n",
      "Iteration 3: 190 happy agents\n",
      "Iteration 4: 204 happy agents\n",
      "Iteration 5: 218 happy agents\n",
      "Iteration 6: 237 happy agents\n",
      "Iteration 7: 249 happy agents\n",
      "Iteration 8: 252 happy agents\n",
      "Iteration 9: 255 happy agents\n",
      "Iteration 10: 264 happy agents\n",
      "Iteration 11: 269 happy agents\n",
      "Iteration 12: 274 happy agents\n",
      "Iteration 13: 279 happy agents\n",
      "Iteration 14: 283 happy agents\n",
      "Iteration 15: 284 happy agents\n",
      "Iteration 16: 285 happy agents\n",
      "Iteration 17: 289 happy agents\n",
      "Iteration 18: 285 happy agents\n",
      "Iteration 19: 288 happy agents\n",
      "Iteration 20: 291 happy agents\n",
      "Iteration 21: 290 happy agents\n",
      "Iteration 22: 291 happy agents\n",
      "Iteration 23: 292 happy agents\n",
      "Iteration 24: 293 happy agents\n",
      "Iteration 25: 294 happy agents\n",
      "Iteration 26: 295 happy agents\n",
      "Iteration 27: 295 happy agents\n",
      "Iteration 28: 296 happy agents\n",
      "Iteration 29: 297 happy agents\n"
     ]
    },
    {
     "data": {
      "text/plain": [
       "<Figure size 640x480 with 1 Axes>"
      ],
      "image/png": "[encoded data removed]"
     },
     "metadata": {},
     "output_type": "display_data"
    },
    {
     "data": {
      "text/plain": [
       "<Figure size 640x480 with 1 Axes>"
      ],
      "image/png": "[encoded data removed]"
     },
     "metadata": {},
     "output_type": "display_data"
    }
   ],
   "execution_count": 7
  },
  {
   "metadata": {},
   "cell_type": "code",
   "source": "",
   "id": "70a560c2a9db8131",
   "outputs": [],
   "execution_count": null
  }
 ],
 "metadata": {
  "kernelspec": {
   "display_name": "Python 3",
   "language": "python",
   "name": "python3"
  },
  "language_info": {
   "codemirror_mode": {
    "name": "ipython",
    "version": 2
   },
   "file_extension": ".py",
   "mimetype": "text/x-python",
   "name": "python",
   "nbconvert_exporter": "python",
   "pygments_lexer": "ipython2",
   "version": "2.7.6"
  }
 },
 "nbformat": 4,
 "nbformat_minor": 5
}
