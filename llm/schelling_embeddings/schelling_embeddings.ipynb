{
 "cells": [
  {
   "metadata": {},
   "cell_type": "markdown",
   "source": [
    "# Embeddings with the Schelling Model\n",
    "\n",
    "A series of experiements with using embeddings to define agents in a simple schelling model.\n",
    "\n",
    "See [schelling_embeddings2.py](schelling_embeddings2.py) for the Schelling model code."
   ],
   "id": "f3780b22f7e74e33"
  },
  {
   "metadata": {
    "ExecuteTime": {
     "end_time": "2025-04-04T14:01:13.663570Z",
     "start_time": "2025-04-04T14:01:11.488189Z"
    }
   },
   "cell_type": "code",
   "source": [
    "import numpy as np\n",
    "import matplotlib.pyplot as plt\n",
    "from sklearn.metrics.pairwise import cosine_similarity\n",
    "import pandas as pd\n",
    "\n",
    "# Import the SchellingModel from your existing code file\n",
    "from schelling_embeddings2 import household_descriptions\n",
    "from schelling_embeddings2 import SchellingModel"
   ],
   "id": "c61ff432661862a0",
   "outputs": [],
   "execution_count": 1
  },
  {
   "metadata": {},
   "cell_type": "markdown",
   "source": [
    "## Household Embedding similarity\n",
    "\n",
    "Explore the embeddings"
   ],
   "id": "e2bfbb7c39af74bc"
  },
  {
   "metadata": {},
   "cell_type": "markdown",
   "source": "These are the household descriptions:",
   "id": "449060ad1d98e55e"
  },
  {
   "metadata": {
    "ExecuteTime": {
     "end_time": "2025-04-04T14:01:13.682328Z",
     "start_time": "2025-04-04T14:01:13.670853Z"
    }
   },
   "cell_type": "code",
   "source": "pd.DataFrame(household_descriptions)",
   "id": "3b50a8b655d1eee0",
   "outputs": [
    {
     "data": {
      "text/plain": [
       "                                                    0\n",
       "0   A dual-income, child-free couple in their 30s ...\n",
       "1   A high-income, couple without children in thei...\n",
       "2   A single mother of two in a rented flat works ...\n",
       "3   A retired married couple in a suburban bungalo...\n",
       "4   A student house-share of four undergraduates l...\n",
       "5   A middle-aged, married couple with three teena...\n",
       "6   A cohabiting same-sex couple in their 40s livi...\n",
       "7   A large, multi-generational family shares a te...\n",
       "8   A young single professional in a high-rise fla...\n",
       "9   A rural, self-employed farming couple with no ...\n",
       "10  A divorced father living part-time with his ki...\n",
       "11  A working-class couple with four children in a...\n",
       "12  A wealthy family with two kids in private scho...\n",
       "13  A single pensioner living alone in a rent-cont...\n",
       "14  A young professional couple renting in a trend...\n",
       "15  A recently arrived refugee family of five livi...\n",
       "16  An older lesbian couple who recently retired t...\n",
       "17  A middle-aged single man in a rural cottage wo...\n",
       "18  A self-employed artist couple with one child l...\n",
       "19  A traditional nuclear family with two children...\n",
       "20  A group of migrant agricultural workers sharin..."
      ],
      "text/html": [
       "<div>\n",
       "<style scoped>\n",
       "    .dataframe tbody tr th:only-of-type {\n",
       "        vertical-align: middle;\n",
       "    }\n",
       "\n",
       "    .dataframe tbody tr th {\n",
       "        vertical-align: top;\n",
       "    }\n",
       "\n",
       "    .dataframe thead th {\n",
       "        text-align: right;\n",
       "    }\n",
       "</style>\n",
       "<table border=\"1\" class=\"dataframe\">\n",
       "  <thead>\n",
       "    <tr style=\"text-align: right;\">\n",
       "      <th></th>\n",
       "      <th>0</th>\n",
       "    </tr>\n",
       "  </thead>\n",
       "  <tbody>\n",
       "    <tr>\n",
       "      <th>0</th>\n",
       "      <td>A dual-income, child-free couple in their 30s ...</td>\n",
       "    </tr>\n",
       "    <tr>\n",
       "      <th>1</th>\n",
       "      <td>A high-income, couple without children in thei...</td>\n",
       "    </tr>\n",
       "    <tr>\n",
       "      <th>2</th>\n",
       "      <td>A single mother of two in a rented flat works ...</td>\n",
       "    </tr>\n",
       "    <tr>\n",
       "      <th>3</th>\n",
       "      <td>A retired married couple in a suburban bungalo...</td>\n",
       "    </tr>\n",
       "    <tr>\n",
       "      <th>4</th>\n",
       "      <td>A student house-share of four undergraduates l...</td>\n",
       "    </tr>\n",
       "    <tr>\n",
       "      <th>5</th>\n",
       "      <td>A middle-aged, married couple with three teena...</td>\n",
       "    </tr>\n",
       "    <tr>\n",
       "      <th>6</th>\n",
       "      <td>A cohabiting same-sex couple in their 40s livi...</td>\n",
       "    </tr>\n",
       "    <tr>\n",
       "      <th>7</th>\n",
       "      <td>A large, multi-generational family shares a te...</td>\n",
       "    </tr>\n",
       "    <tr>\n",
       "      <th>8</th>\n",
       "      <td>A young single professional in a high-rise fla...</td>\n",
       "    </tr>\n",
       "    <tr>\n",
       "      <th>9</th>\n",
       "      <td>A rural, self-employed farming couple with no ...</td>\n",
       "    </tr>\n",
       "    <tr>\n",
       "      <th>10</th>\n",
       "      <td>A divorced father living part-time with his ki...</td>\n",
       "    </tr>\n",
       "    <tr>\n",
       "      <th>11</th>\n",
       "      <td>A working-class couple with four children in a...</td>\n",
       "    </tr>\n",
       "    <tr>\n",
       "      <th>12</th>\n",
       "      <td>A wealthy family with two kids in private scho...</td>\n",
       "    </tr>\n",
       "    <tr>\n",
       "      <th>13</th>\n",
       "      <td>A single pensioner living alone in a rent-cont...</td>\n",
       "    </tr>\n",
       "    <tr>\n",
       "      <th>14</th>\n",
       "      <td>A young professional couple renting in a trend...</td>\n",
       "    </tr>\n",
       "    <tr>\n",
       "      <th>15</th>\n",
       "      <td>A recently arrived refugee family of five livi...</td>\n",
       "    </tr>\n",
       "    <tr>\n",
       "      <th>16</th>\n",
       "      <td>An older lesbian couple who recently retired t...</td>\n",
       "    </tr>\n",
       "    <tr>\n",
       "      <th>17</th>\n",
       "      <td>A middle-aged single man in a rural cottage wo...</td>\n",
       "    </tr>\n",
       "    <tr>\n",
       "      <th>18</th>\n",
       "      <td>A self-employed artist couple with one child l...</td>\n",
       "    </tr>\n",
       "    <tr>\n",
       "      <th>19</th>\n",
       "      <td>A traditional nuclear family with two children...</td>\n",
       "    </tr>\n",
       "    <tr>\n",
       "      <th>20</th>\n",
       "      <td>A group of migrant agricultural workers sharin...</td>\n",
       "    </tr>\n",
       "  </tbody>\n",
       "</table>\n",
       "</div>"
      ]
     },
     "execution_count": 2,
     "metadata": {},
     "output_type": "execute_result"
    }
   ],
   "execution_count": 2
  },
  {
   "metadata": {},
   "cell_type": "markdown",
   "source": "Look at the similarity of the household embeddings.\n",
   "id": "c2bec00c4121048"
  },
  {
   "metadata": {
    "ExecuteTime": {
     "end_time": "2025-04-04T14:01:15.758179Z",
     "start_time": "2025-04-04T14:01:14.073324Z"
    }
   },
   "cell_type": "code",
   "source": [
    "# Create a minimal model instance. Set grid_size=1, num_agents=1, max_iters=0\n",
    "# so it doesn't run the main loop, but still loads embeddings.\n",
    "model = SchellingModel(\n",
    "    descriptions=household_descriptions,\n",
    "    grid_size=1,\n",
    "    num_agents=1,\n",
    "    similarity_threshold=0.85,\n",
    "    max_iters=0\n",
    ")\n",
    "\n",
    "# Retrieve the 10 household embeddings from the model\n",
    "embeddings = model.description_embeddings\n",
    "\n",
    "# Compute the 10×10 similarity matrix\n",
    "sim_matrix = cosine_similarity(embeddings)\n",
    "\n",
    "# Plot the similarity matrix\n",
    "plt.imshow(sim_matrix)  # By default uses a color scale\n",
    "plt.colorbar()\n",
    "plt.title(\"Cosine Similarities Between Household Types\")\n",
    "plt.xlabel(\"Household Type Index\")\n",
    "plt.ylabel(\"Household Type Index\")\n",
    "plt.show()"
   ],
   "id": "80463d59eee8ff4a",
   "outputs": [
    {
     "data": {
      "text/plain": [
       "<Figure size 640x480 with 2 Axes>"
      ],
      "image/png": "[encoded data removed]"
     },
     "metadata": {},
     "output_type": "display_data"
    }
   ],
   "execution_count": 3
  },
  {
   "metadata": {},
   "cell_type": "markdown",
   "source": "Show the most- and least-similar pairs of households",
   "id": "6355ed6d6fcdbc38"
  },
  {
   "metadata": {
    "ExecuteTime": {
     "end_time": "2025-04-04T14:01:15.783254Z",
     "start_time": "2025-04-04T14:01:15.777770Z"
    }
   },
   "cell_type": "code",
   "source": [
    "# Create a list of (type_i, type_j, similarity) for all unique pairs\n",
    "pairs = []\n",
    "for i in range(len(household_descriptions)):\n",
    "    for j in range(i+1, len(household_descriptions)):\n",
    "        pairs.append((i, j, sim_matrix[i][j]))\n",
    "\n",
    "# Sort by similarity\n",
    "pairs.sort(key=lambda x: x[2], reverse=True)\n",
    "\n",
    "# Take the top 5 most similar\n",
    "top_5 = pairs[:5]\n",
    "# Take the bottom 5 least similar\n",
    "bottom_5 = pairs[-5:]\n",
    "\n",
    "# Convert to DataFrame\n",
    "columns = [\"Type1 Index\", \"Type2 Index\", \"Similarity\", \"Type1 Description\", \"Type2 Description\"]\n",
    "rows = []\n",
    "for (i, j, sim) in top_5:\n",
    "    rows.append((i, j, sim, household_descriptions[i], household_descriptions[j]))\n",
    "for (i, j, sim) in bottom_5:\n",
    "    rows.append((i, j, sim, household_descriptions[i], household_descriptions[j]))\n",
    "\n",
    "df = pd.DataFrame(rows, columns=columns)\n",
    "\n",
    "# Show the table\n",
    "df"
   ],
   "id": "521bef35f7e06466",
   "outputs": [
    {
     "data": {
      "text/plain": [
       "   Type1 Index  Type2 Index  Similarity  \\\n",
       "0            0            1    0.716481   \n",
       "1           12           19    0.713502   \n",
       "2            3           16    0.699161   \n",
       "3            1           14    0.668321   \n",
       "4            5           12    0.663109   \n",
       "5           16           20    0.215539   \n",
       "6            3            8    0.208918   \n",
       "7            2            3    0.201271   \n",
       "8            2           16    0.182851   \n",
       "9            8           15    0.167917   \n",
       "\n",
       "                                   Type1 Description  \\\n",
       "0  A dual-income, child-free couple in their 30s ...   \n",
       "1  A wealthy family with two kids in private scho...   \n",
       "2  A retired married couple in a suburban bungalo...   \n",
       "3  A high-income, couple without children in thei...   \n",
       "4  A middle-aged, married couple with three teena...   \n",
       "5  An older lesbian couple who recently retired t...   \n",
       "6  A retired married couple in a suburban bungalo...   \n",
       "7  A single mother of two in a rented flat works ...   \n",
       "8  A single mother of two in a rented flat works ...   \n",
       "9  A young single professional in a high-rise fla...   \n",
       "\n",
       "                                   Type2 Description  \n",
       "0  A high-income, couple without children in thei...  \n",
       "1  A traditional nuclear family with two children...  \n",
       "2  An older lesbian couple who recently retired t...  \n",
       "3  A young professional couple renting in a trend...  \n",
       "4  A wealthy family with two kids in private scho...  \n",
       "5  A group of migrant agricultural workers sharin...  \n",
       "6  A young single professional in a high-rise fla...  \n",
       "7  A retired married couple in a suburban bungalo...  \n",
       "8  An older lesbian couple who recently retired t...  \n",
       "9  A recently arrived refugee family of five livi...  "
      ],
      "text/html": [
       "<div>\n",
       "<style scoped>\n",
       "    .dataframe tbody tr th:only-of-type {\n",
       "        vertical-align: middle;\n",
       "    }\n",
       "\n",
       "    .dataframe tbody tr th {\n",
       "        vertical-align: top;\n",
       "    }\n",
       "\n",
       "    .dataframe thead th {\n",
       "        text-align: right;\n",
       "    }\n",
       "</style>\n",
       "<table border=\"1\" class=\"dataframe\">\n",
       "  <thead>\n",
       "    <tr style=\"text-align: right;\">\n",
       "      <th></th>\n",
       "      <th>Type1 Index</th>\n",
       "      <th>Type2 Index</th>\n",
       "      <th>Similarity</th>\n",
       "      <th>Type1 Description</th>\n",
       "      <th>Type2 Description</th>\n",
       "    </tr>\n",
       "  </thead>\n",
       "  <tbody>\n",
       "    <tr>\n",
       "      <th>0</th>\n",
       "      <td>0</td>\n",
       "      <td>1</td>\n",
       "      <td>0.716481</td>\n",
       "      <td>A dual-income, child-free couple in their 30s ...</td>\n",
       "      <td>A high-income, couple without children in thei...</td>\n",
       "    </tr>\n",
       "    <tr>\n",
       "      <th>1</th>\n",
       "      <td>12</td>\n",
       "      <td>19</td>\n",
       "      <td>0.713502</td>\n",
       "      <td>A wealthy family with two kids in private scho...</td>\n",
       "      <td>A traditional nuclear family with two children...</td>\n",
       "    </tr>\n",
       "    <tr>\n",
       "      <th>2</th>\n",
       "      <td>3</td>\n",
       "      <td>16</td>\n",
       "      <td>0.699161</td>\n",
       "      <td>A retired married couple in a suburban bungalo...</td>\n",
       "      <td>An older lesbian couple who recently retired t...</td>\n",
       "    </tr>\n",
       "    <tr>\n",
       "      <th>3</th>\n",
       "      <td>1</td>\n",
       "      <td>14</td>\n",
       "      <td>0.668321</td>\n",
       "      <td>A high-income, couple without children in thei...</td>\n",
       "      <td>A young professional couple renting in a trend...</td>\n",
       "    </tr>\n",
       "    <tr>\n",
       "      <th>4</th>\n",
       "      <td>5</td>\n",
       "      <td>12</td>\n",
       "      <td>0.663109</td>\n",
       "      <td>A middle-aged, married couple with three teena...</td>\n",
       "      <td>A wealthy family with two kids in private scho...</td>\n",
       "    </tr>\n",
       "    <tr>\n",
       "      <th>5</th>\n",
       "      <td>16</td>\n",
       "      <td>20</td>\n",
       "      <td>0.215539</td>\n",
       "      <td>An older lesbian couple who recently retired t...</td>\n",
       "      <td>A group of migrant agricultural workers sharin...</td>\n",
       "    </tr>\n",
       "    <tr>\n",
       "      <th>6</th>\n",
       "      <td>3</td>\n",
       "      <td>8</td>\n",
       "      <td>0.208918</td>\n",
       "      <td>A retired married couple in a suburban bungalo...</td>\n",
       "      <td>A young single professional in a high-rise fla...</td>\n",
       "    </tr>\n",
       "    <tr>\n",
       "      <th>7</th>\n",
       "      <td>2</td>\n",
       "      <td>3</td>\n",
       "      <td>0.201271</td>\n",
       "      <td>A single mother of two in a rented flat works ...</td>\n",
       "      <td>A retired married couple in a suburban bungalo...</td>\n",
       "    </tr>\n",
       "    <tr>\n",
       "      <th>8</th>\n",
       "      <td>2</td>\n",
       "      <td>16</td>\n",
       "      <td>0.182851</td>\n",
       "      <td>A single mother of two in a rented flat works ...</td>\n",
       "      <td>An older lesbian couple who recently retired t...</td>\n",
       "    </tr>\n",
       "    <tr>\n",
       "      <th>9</th>\n",
       "      <td>8</td>\n",
       "      <td>15</td>\n",
       "      <td>0.167917</td>\n",
       "      <td>A young single professional in a high-rise fla...</td>\n",
       "      <td>A recently arrived refugee family of five livi...</td>\n",
       "    </tr>\n",
       "  </tbody>\n",
       "</table>\n",
       "</div>"
      ]
     },
     "execution_count": 4,
     "metadata": {},
     "output_type": "execute_result"
    }
   ],
   "execution_count": 4
  },
  {
   "metadata": {},
   "cell_type": "markdown",
   "source": [
    "## Agent locations\n",
    "\n",
    "Visualise the changing locations of the agents"
   ],
   "id": "9a22a5ef18e5ddd3"
  },
  {
   "metadata": {
    "ExecuteTime": {
     "end_time": "2025-04-04T14:01:20.104168Z",
     "start_time": "2025-04-04T14:01:15.826311Z"
    }
   },
   "cell_type": "code",
   "source": [
    "\n",
    "# --- Step 2: Create and run the model\n",
    "model = SchellingModel(household_descriptions,\n",
    "                           grid_size=20,\n",
    "                           num_agents=300,\n",
    "                           similarity_threshold=0.50,\n",
    "                           max_iters=50)\n",
    "\n",
    "# Save initial positions before running the simulation\n",
    "initial_positions = [(agent.pos, agent.desc_idx) for agent in model.agents]\n",
    "\n",
    "# Run the simulation (updates agent positions)\n",
    "model.run(do_plots=False)\n",
    "\n",
    "# Save final positions\n",
    "final_positions = [(agent.pos, agent.desc_idx) for agent in model.agents]\n",
    "\n",
    "# --- Step 3: Plotting function\n",
    "def plot_agent_positions(agent_data, title, rgb_map, grid_size=20):\n",
    "    img = np.ones((grid_size, grid_size, 3))  # white background\n",
    "    for (x, y), desc_idx in agent_data:\n",
    "        rgb = rgb_map[desc_idx]\n",
    "        scaled = (rgb - rgb_map.min()) / (rgb_map.max() - rgb_map.min())\n",
    "        img[x, y] = scaled\n",
    "    plt.imshow(img)\n",
    "    plt.title(title)\n",
    "    plt.axis(\"off\")\n",
    "    plt.savefig(f\"{title.replace(\" \", \"_\")}.pdf\", bbox_inches='tight', dpi=128)\n",
    "    plt.show()\n",
    "\n",
    "# --- Step 4: Show both grids\n",
    "plot_agent_positions(initial_positions, \"Initial Agent Locations\", model.rgb_map)\n",
    "plot_agent_positions(final_positions, \"Final Agent Locations\", model.rgb_map)\n"
   ],
   "id": "d550709aa975d618",
   "outputs": [
    {
     "name": "stdout",
     "output_type": "stream",
     "text": [
      "Iteration 0: 116 happy agents\n",
      "Iteration 1: 151 happy agents\n",
      "Iteration 2: 178 happy agents\n",
      "Iteration 3: 182 happy agents\n",
      "Iteration 4: 178 happy agents\n",
      "Iteration 5: 185 happy agents\n",
      "Iteration 6: 196 happy agents\n",
      "Iteration 7: 207 happy agents\n",
      "Iteration 8: 227 happy agents\n",
      "Iteration 9: 226 happy agents\n",
      "Iteration 10: 231 happy agents\n",
      "Iteration 11: 235 happy agents\n",
      "Iteration 12: 238 happy agents\n",
      "Iteration 13: 244 happy agents\n",
      "Iteration 14: 251 happy agents\n",
      "Iteration 15: 260 happy agents\n",
      "Iteration 16: 264 happy agents\n",
      "Iteration 17: 257 happy agents\n",
      "Iteration 18: 260 happy agents\n",
      "Iteration 19: 264 happy agents\n",
      "Iteration 20: 265 happy agents\n",
      "Iteration 21: 267 happy agents\n",
      "Iteration 22: 272 happy agents\n",
      "Iteration 23: 274 happy agents\n",
      "Iteration 24: 279 happy agents\n",
      "Iteration 25: 284 happy agents\n",
      "Iteration 26: 285 happy agents\n",
      "Iteration 27: 285 happy agents\n",
      "Iteration 28: 284 happy agents\n",
      "Iteration 29: 284 happy agents\n",
      "Iteration 30: 287 happy agents\n",
      "Iteration 31: 291 happy agents\n",
      "Iteration 32: 291 happy agents\n",
      "Iteration 33: 294 happy agents\n",
      "Iteration 34: 293 happy agents\n",
      "Iteration 35: 291 happy agents\n",
      "Iteration 36: 288 happy agents\n",
      "Iteration 37: 287 happy agents\n",
      "Iteration 38: 286 happy agents\n",
      "Iteration 39: 286 happy agents\n",
      "Iteration 40: 287 happy agents\n",
      "Iteration 41: 290 happy agents\n",
      "Iteration 42: 290 happy agents\n",
      "Iteration 43: 291 happy agents\n",
      "Iteration 44: 293 happy agents\n",
      "Iteration 45: 293 happy agents\n",
      "Iteration 46: 293 happy agents\n",
      "Iteration 47: 292 happy agents\n",
      "Iteration 48: 292 happy agents\n",
      "Iteration 49: 292 happy agents\n"
     ]
    },
    {
     "data": {
      "text/plain": [
       "<Figure size 640x480 with 1 Axes>"
      ],
      "image/png": "[encoded data removed]"
     },
     "metadata": {},
     "output_type": "display_data"
    },
    {
     "data": {
      "text/plain": [
       "<Figure size 640x480 with 1 Axes>"
      ],
      "image/png": "[encoded data removed]"
     },
     "metadata": {},
     "output_type": "display_data"
    }
   ],
   "execution_count": 5
  },
  {
   "metadata": {
    "ExecuteTime": {
     "end_time": "2025-04-04T14:01:20.213887Z",
     "start_time": "2025-04-04T14:01:20.120846Z"
    }
   },
   "cell_type": "code",
   "source": [
    "# Plot the happiness graph too\n",
    "fig = model.plot_happiness(return_fig=True)\n",
    "fig.savefig(\"Happiness.pdf\", bbox_inches='tight', dpi=128)\n",
    "fig.show()"
   ],
   "id": "70a560c2a9db8131",
   "outputs": [
    {
     "name": "stderr",
     "output_type": "stream",
     "text": [
      "/var/folders/bx/3j5z8qc50wl1tcff6xvbf2zh0000gs/T/ipykernel_47232/2950375456.py:4: UserWarning: FigureCanvasAgg is non-interactive, and thus cannot be shown\n",
      "  fig.show()\n"
     ]
    },
    {
     "data": {
      "text/plain": [
       "<Figure size 640x480 with 1 Axes>"
      ],
      "image/png": "[encoded data removed]"
     },
     "metadata": {},
     "output_type": "display_data"
    }
   ],
   "execution_count": 6
  },
  {
   "metadata": {
    "ExecuteTime": {
     "end_time": "2025-04-04T14:01:20.219293Z",
     "start_time": "2025-04-04T14:01:20.217958Z"
    }
   },
   "cell_type": "code",
   "source": "",
   "id": "4dc76d351f1fe739",
   "outputs": [],
   "execution_count": null
  }
 ],
 "metadata": {
  "kernelspec": {
   "display_name": "Python 3",
   "language": "python",
   "name": "python3"
  },
  "language_info": {
   "codemirror_mode": {
    "name": "ipython",
    "version": 2
   },
   "file_extension": ".py",
   "mimetype": "text/x-python",
   "name": "python",
   "nbconvert_exporter": "python",
   "pygments_lexer": "ipython2",
   "version": "2.7.6"
  }
 },
 "nbformat": 4,
 "nbformat_minor": 5
}
