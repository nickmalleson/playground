


import folium

# Data: university names, research groups, and approximate latitudes and longitudes
universities = {
    "UCL (University College London)": {
        "groups": ["Centre for Advanced Spatial Analysis (CASA)"],
        "location": (51.5245, -0.1340)
    },
    "University of Leeds": {
        "groups": ["Centre for Spatial Analysis and Policy (CSAP)"],
        "location": (53.8076, -1.5544)
    },
    "University of Edinburgh": {
        "groups": ["GeoSciences Spatial Modelling Group"],
        "location": (55.9445, -3.1888)
    },
    "University of Southampton": {
        "groups": ["Geodata Institute", "WorldPop"],
        "location": (50.9351, -1.3965)
    },
    "University of Manchester": {
        "groups": ["Geographical Information Science (GIS) Research Group"],
        "location": (53.4668, -2.2339)
    },
    "University of Sheffield": {
        "groups": ["Sheffield Methods Institute (SMI)"],
        "location": (53.3811, -1.4872)
    },
    "University of Liverpool": {
        "groups": ["Geographic Data Science Lab"],
        "location": (53.4055, -2.9653)
    },
    "Loughborough University": {
        "groups": ["Geospatial Science Research Group"],
        "location": (52.7719, -1.2237)
    },
    "University of Glasgow": {
        "groups": ["Urban Big Data Centre (UBDC)"],
        "location": (55.8721, -4.2882)
    },
    "Newcastle University": {
        "groups": ["Geospatial Engineering Group"],
        "location": (54.9792, -1.6146)
    },
    "University of Exeter": {
        "groups": ["Geography, Geoinformatics and Geocomputation (G3) Research Group"],
        "location": (50.7365, -3.5347)
    },
    "Birkbeck, University of London": {
        "groups": ["Geospatial Analysis and Modelling Research Group"],
        "location": (51.5217, -0.1300)
    }
}

# Create a map centered around the UK
m = folium.Map(location=[53.8008, -1.5491], zoom_start=6)

# Add markers for each university and their research groups
for university, data in universities.items():
    lat, lon = data["location"]
    popup_content = university + "<br>"
    for group in data["groups"]:
        popup_content += "- " + group + "<br>"
    folium.Marker([lat, lon], tooltip=university, popup=popup_content).add_to(m)

# Display the map
m.save("giscrg_map.html")
m # Plot it



